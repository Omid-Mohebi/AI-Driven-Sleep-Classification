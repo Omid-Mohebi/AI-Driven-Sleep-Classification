{
 "cells": [
  {
   "cell_type": "code",
   "execution_count": null,
   "metadata": {
    "colab": {
     "base_uri": "https://localhost:8080/",
     "height": 122
    },
    "id": "gVNd7vtpRgwi",
    "outputId": "57d31052-794f-43b4-f072-f7c02141bbfb"
   },
   "outputs": [
    {
     "name": "stderr",
     "output_type": "stream",
     "text": [
      "Downloading...\n",
      "From (original): https://drive.google.com/uc?id=1Y2cTYR_t_10NAbznspE5bBjuATPdTgtq\n",
      "From (redirected): https://drive.google.com/uc?id=1Y2cTYR_t_10NAbznspE5bBjuATPdTgtq&confirm=t&uuid=1fd25d11-f83e-46c9-97fa-daaeb324729e\n",
      "To: /content/file.zip\n",
      "100%|██████████| 134M/134M [00:04<00:00, 30.5MB/s]\n"
     ]
    },
    {
     "data": {
      "application/vnd.google.colaboratory.intrinsic+json": {
       "type": "string"
      },
      "text/plain": [
       "'file.zip'"
      ]
     },
     "execution_count": 1,
     "metadata": {},
     "output_type": "execute_result"
    }
   ],
   "source": [
    "import gdown\n",
    "\n",
    "file_id = '1Y2cTYR_t_10NAbznspE5bBjuATPdTgtq'\n",
    "download_url = f'https://drive.google.com/uc?id={file_id}'\n",
    "gdown.download(download_url, 'file.zip', quiet=False)"
   ]
  },
  {
   "cell_type": "code",
   "execution_count": null,
   "metadata": {
    "id": "yA2ZBHoOSS5w"
   },
   "outputs": [],
   "source": [
    "import zipfile\n",
    "\n",
    "with zipfile.ZipFile('file.zip', 'r') as zip_ref:\n",
    "    zip_ref.extractall('/content/data')"
   ]
  },
  {
   "cell_type": "code",
   "execution_count": null,
   "metadata": {
    "colab": {
     "base_uri": "https://localhost:8080/"
    },
    "id": "BsXxHxuRT3C2",
    "outputId": "40ef29b2-6792-4bc1-ebbd-de72eeb05970"
   },
   "outputs": [
    {
     "name": "stdout",
     "output_type": "stream",
     "text": [
      "Loaded 1755 samples from class: 2\n",
      "Loaded 497 samples from class: 3\n",
      "Loaded 237 samples from class: 1\n",
      "Loaded 418 samples from class: 4\n",
      "Loaded 2906 samples from class: 0\n",
      "Original class distribution: Counter({0: 2906, 2: 1755, 3: 497, 4: 418, 1: 237})\n",
      "Maximum samples in any class: 1000\n"
     ]
    }
   ],
   "source": [
    "import numpy as np\n",
    "import os\n",
    "from sklearn.preprocessing import LabelEncoder\n",
    "from collections import Counter\n",
    "\n",
    "data_dir = 'data/AISContest_Data'\n",
    "\n",
    "data = []\n",
    "labels = []\n",
    "\n",
    "for class_label in os.listdir(data_dir):\n",
    "    class_folder = os.path.join(data_dir, class_label)\n",
    "\n",
    "    if os.path.isdir(class_folder):\n",
    "        class_count = 0\n",
    "\n",
    "        for file_name in os.listdir(class_folder):\n",
    "            if file_name.endswith('.npy'):\n",
    "                file_path = os.path.join(class_folder, file_name)\n",
    "                class_data = np.load(file_path)\n",
    "\n",
    "                data.append(class_data)\n",
    "                labels.append(class_label)\n",
    "\n",
    "                class_count += 1\n",
    "\n",
    "        print(f'Loaded {class_count} samples from class: {class_label}')\n",
    "\n",
    "data = np.array(data, dtype=np.float64)\n",
    "labels = np.array(labels, dtype=np.int64)\n",
    "\n",
    "label_encoder = LabelEncoder()\n",
    "encoded_labels = label_encoder.fit_transform(labels)\n",
    "\n",
    "class_counts = Counter(encoded_labels)\n",
    "print(\"Original class distribution:\", class_counts)"
   ]
  }
 ],
 "metadata": {
  "colab": {
   "provenance": []
  },
  "kernelspec": {
   "display_name": "Python 3",
   "name": "python3"
  },
  "language_info": {
   "name": "python"
  }
 },
 "nbformat": 4,
 "nbformat_minor": 0
}
